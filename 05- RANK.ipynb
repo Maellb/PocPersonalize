{
 "cells": [
  {
   "cell_type": "code",
   "execution_count": null,
   "id": "e85ba0a1",
   "metadata": {},
   "outputs": [],
   "source": [
    "!pip install unidecode\n",
    "import time\n",
    "from time import sleep\n",
    "import json\n",
    "from datetime import datetime\n",
    "import uuid\n",
    "import random\n",
    "\n",
    "import boto3\n",
    "import pandas as pd\n",
    "import unidecode"
   ]
  },
  {
   "cell_type": "markdown",
   "id": "7fe93522",
   "metadata": {},
   "source": [
    "## Personalized Ranking\n",
    "\n",
    "The core use case for personalized ranking is to take a collection of items and to render them in priority or probable order of interest for a user. \n",
    "For a VOD application you want dynamically render a personalized shelf/rail/carousel based on some information (director, location, superhero franchise, movie time period etc). This may not be information that you have in your metadata, so a item metadata filter will not work, however you may have this information within you system to generate the item list.\n",
    "\n",
    "To demonstrate this, we will use the same user from before and a random collection of items.\n"
   ]
  },
  {
   "cell_type": "code",
   "execution_count": null,
   "id": "cd7e4bb2",
   "metadata": {},
   "outputs": [],
   "source": [
    "%store -r"
   ]
  },
  {
   "cell_type": "code",
   "execution_count": null,
   "id": "87a0ed7b",
   "metadata": {},
   "outputs": [],
   "source": [
    "items_df = pd.read_csv(dataset_dir + '/movies.csv', sep=',', usecols=[0,1], encoding='UTF-8', dtype={'movieId': \"object\", 'title': \"str\"},index_col=0)\n",
    "rerank_items = items_df.sample(25).index.tolist()"
   ]
  },
  {
   "cell_type": "code",
   "execution_count": null,
   "id": "91e9bc07",
   "metadata": {},
   "outputs": [],
   "source": [
    "personalize = boto3.client('personalize')\n",
    "personalize_runtime = boto3.client('personalize-runtime')\n",
    "\n",
    "# Establish a connection to Personalize's event streaming\n",
    "personalize_events = boto3.client(service_name='personalize-events')\n",
    "\n",
    "def get_movie_by_id(movie_id, movie_df=items_df):\n",
    "    try:\n",
    "        return movie_df.loc[int(movie_id)]['title']\n",
    "    except:\n",
    "        return \"Error obtaining title\""
   ]
  },
  {
   "cell_type": "code",
   "execution_count": null,
   "id": "4692427c",
   "metadata": {},
   "outputs": [],
   "source": [
    "rerank_list = []\n",
    "for item in rerank_items:\n",
    "    movie = get_movie_by_id(item)\n",
    "    rerank_list.append(movie)\n",
    "rerank_df = pd.DataFrame(rerank_list, columns = ['Un-Ranked'])\n",
    "rerank_df"
   ]
  },
  {
   "cell_type": "code",
   "execution_count": null,
   "id": "ae6ed079",
   "metadata": {},
   "outputs": [],
   "source": [
    "user_id = '593'\n",
    "rerank_item_list = []\n",
    "for item in rerank_items:\n",
    "    rerank_item_list.append(str(item))\n",
    "    \n",
    "# Get recommended reranking\n",
    "get_recommendations_response_rerank = personalize_runtime.get_personalized_ranking(\n",
    "        campaignArn = rerank_campaign_arn,\n",
    "        userId = user_id,\n",
    "        inputList = rerank_item_list\n",
    ")"
   ]
  },
  {
   "cell_type": "code",
   "execution_count": null,
   "id": "cf481b28",
   "metadata": {},
   "outputs": [],
   "source": [
    "ranked_list = []\n",
    "item_list = get_recommendations_response_rerank['personalizedRanking']\n",
    "for item in item_list:\n",
    "    movie = get_movie_by_id(item['itemId'])\n",
    "    ranked_list.append(movie)\n",
    "ranked_df = pd.DataFrame(ranked_list, columns = ['Re-Ranked'])\n",
    "rerank_df = pd.concat([rerank_df, ranked_df], axis=1)\n",
    "rerank_df"
   ]
  },
  {
   "cell_type": "code",
   "execution_count": null,
   "id": "1205a32a",
   "metadata": {},
   "outputs": [],
   "source": [
    "user_id2 = '464'\n",
    "rerank_item_list2 = []\n",
    "for item in rerank_items:\n",
    "    rerank_item_list2.append(str(item))\n",
    "    \n",
    "get_recommendations_response_rerank2 = personalize_runtime.get_personalized_ranking(\n",
    "        campaignArn = rerank_campaign_arn,\n",
    "        userId = user_id2,\n",
    "        inputList = rerank_item_list\n",
    ")\n",
    "\n",
    "rerank_df2 = pd.DataFrame(rerank_list, columns = ['Un-Ranked'])\n",
    "item_list"
   ]
  },
  {
   "cell_type": "code",
   "execution_count": null,
   "id": "0dd5ee4f",
   "metadata": {},
   "outputs": [],
   "source": [
    "ranked_list2 = []\n",
    "rerank_df2 = pd.DataFrame(rerank_list, columns = ['Un-Ranked'])\n",
    "item_list2 = get_recommendations_response_rerank2['personalizedRanking']\n",
    "for item in item_list2:\n",
    "    movie2 = get_movie_by_id(item['itemId'])\n",
    "    ranked_list2.append(movie2)\n",
    "ranked_df2 = pd.DataFrame(ranked_list2, columns = ['Re-Ranked'])\n",
    "rerank_df2 = pd.concat([rerank_df2, ranked_df2], axis=1)\n",
    "rerank_df2"
   ]
  },
  {
   "cell_type": "code",
   "execution_count": null,
   "id": "fcd31be2",
   "metadata": {},
   "outputs": [],
   "source": [
    "%store ranked_df2\n",
    "%store rerank_df2"
   ]
  },
  {
   "cell_type": "code",
   "execution_count": null,
   "id": "cf8b0dd5",
   "metadata": {},
   "outputs": [],
   "source": []
  }
 ],
 "metadata": {
  "kernelspec": {
   "display_name": "conda_python3",
   "language": "python",
   "name": "conda_python3"
  },
  "language_info": {
   "codemirror_mode": {
    "name": "ipython",
    "version": 3
   },
   "file_extension": ".py",
   "mimetype": "text/x-python",
   "name": "python",
   "nbconvert_exporter": "python",
   "pygments_lexer": "ipython3",
   "version": "3.6.13"
  }
 },
 "nbformat": 4,
 "nbformat_minor": 5
}
